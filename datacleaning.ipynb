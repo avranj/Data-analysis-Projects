{
 "cells": [
  {
   "cell_type": "code",
   "execution_count": 1,
   "id": "01239236",
   "metadata": {},
   "outputs": [],
   "source": [
    "#melbourne house data cleaning and solving missing values problem\n",
    "#Property Price Prediction\n",
    "import pandas as pd\n",
    "import numpy as np\n",
    "import matplotlib.pyplot as plt"
   ]
  },
  {
   "cell_type": "code",
   "execution_count": 2,
   "id": "2b16fb1f",
   "metadata": {},
   "outputs": [
    {
     "name": "stdout",
     "output_type": "stream",
     "text": [
      "             Suburb             Address  Rooms Type      Price Method  \\\n",
      "0        Abbotsford       68 Studley St      2    h        NaN     SS   \n",
      "1        Abbotsford        85 Turner St      2    h  1480000.0      S   \n",
      "2        Abbotsford     25 Bloomburg St      2    h  1035000.0      S   \n",
      "3        Abbotsford  18/659 Victoria St      3    u        NaN     VB   \n",
      "4        Abbotsford        5 Charles St      3    h  1465000.0     SP   \n",
      "...             ...                 ...    ...  ...        ...    ...   \n",
      "23542  Wyndham Vale     25 Clitheroe Dr      3    u        NaN     PN   \n",
      "23543  Wyndham Vale    19 Dalrymple Bvd      4    h        NaN      S   \n",
      "23544     Yallambie        17 Amaroo Wy      4    h  1100000.0      S   \n",
      "23545    Yarraville          6 Agnes St      4    h  1285000.0     SP   \n",
      "23546    Yarraville       33 Freeman St      4    h  1050000.0     VB   \n",
      "\n",
      "             SellerG        Date  Distance  Postcode  ...  Bathroom  Car  \\\n",
      "0             Jellis  03-09-2016       2.5    3067.0  ...       1.0  1.0   \n",
      "1             Biggin  03-12-2016       2.5    3067.0  ...       1.0  1.0   \n",
      "2             Biggin  04-02-2016       2.5    3067.0  ...       1.0  0.0   \n",
      "3             Rounds  04-02-2016       2.5    3067.0  ...       2.0  1.0   \n",
      "4             Biggin  04-03-2017       2.5    3067.0  ...       2.0  0.0   \n",
      "...              ...         ...       ...       ...  ...       ...  ...   \n",
      "23542      Harcourts  26-08-2017      27.2    3024.0  ...       1.0  0.0   \n",
      "23543  hockingstuart  26-08-2017      27.2    3024.0  ...       NaN  NaN   \n",
      "23544     Buckingham  26-08-2017      12.7    3085.0  ...       3.0  2.0   \n",
      "23545        Village  26-08-2017       6.3    3013.0  ...       1.0  1.0   \n",
      "23546        Village  26-08-2017       6.3    3013.0  ...       2.0  2.0   \n",
      "\n",
      "       Landsize  BuildingArea  YearBuilt  CouncilArea Lattitude  Longtitude  \\\n",
      "0         126.0           NaN        NaN        Yarra -37.80140   144.99580   \n",
      "1         202.0           NaN        NaN        Yarra -37.79960   144.99840   \n",
      "2         156.0          79.0     1900.0        Yarra -37.80790   144.99340   \n",
      "3           0.0           NaN        NaN        Yarra -37.81140   145.01160   \n",
      "4         134.0         150.0     1900.0        Yarra -37.80930   144.99440   \n",
      "...         ...           ...        ...          ...       ...         ...   \n",
      "23542     552.0         119.0     1990.0          NaN -37.90032   144.61839   \n",
      "23543       NaN           NaN        NaN          NaN -37.87882   144.60184   \n",
      "23544       NaN           NaN        NaN          NaN -37.72006   145.10547   \n",
      "23545     362.0         112.0     1920.0          NaN -37.81188   144.88449   \n",
      "23546       NaN         139.0     1950.0          NaN -37.81829   144.87404   \n",
      "\n",
      "                  Regionname Propertycount  \n",
      "0      Northern Metropolitan        4019.0  \n",
      "1      Northern Metropolitan        4019.0  \n",
      "2      Northern Metropolitan        4019.0  \n",
      "3      Northern Metropolitan        4019.0  \n",
      "4      Northern Metropolitan        4019.0  \n",
      "...                      ...           ...  \n",
      "23542   Western Metropolitan        5262.0  \n",
      "23543   Western Metropolitan        5262.0  \n",
      "23544  Northern Metropolitan        1369.0  \n",
      "23545   Western Metropolitan        6543.0  \n",
      "23546   Western Metropolitan        6543.0  \n",
      "\n",
      "[23547 rows x 21 columns]\n"
     ]
    }
   ],
   "source": [
    "#read csv\n",
    "a=pd.read_csv(\"melbourne.csv\")\n",
    "print(a)"
   ]
  },
  {
   "cell_type": "code",
   "execution_count": 3,
   "id": "bfbe8833",
   "metadata": {},
   "outputs": [
    {
     "name": "stdout",
     "output_type": "stream",
     "text": [
      "(23547, 21)\n"
     ]
    }
   ],
   "source": [
    "#shape of data\n",
    "print(a.shape)\n"
   ]
  },
  {
   "cell_type": "code",
   "execution_count": 4,
   "id": "468cfacb",
   "metadata": {},
   "outputs": [
    {
     "name": "stdout",
     "output_type": "stream",
     "text": [
      "<class 'pandas.core.frame.DataFrame'>\n",
      "RangeIndex: 23547 entries, 0 to 23546\n",
      "Data columns (total 21 columns):\n",
      " #   Column         Non-Null Count  Dtype  \n",
      "---  ------         --------------  -----  \n",
      " 0   Suburb         23547 non-null  object \n",
      " 1   Address        23547 non-null  object \n",
      " 2   Rooms          23547 non-null  int64  \n",
      " 3   Type           23547 non-null  object \n",
      " 4   Price          18396 non-null  float64\n",
      " 5   Method         23547 non-null  object \n",
      " 6   SellerG        23547 non-null  object \n",
      " 7   Date           23547 non-null  object \n",
      " 8   Distance       23546 non-null  float64\n",
      " 9   Postcode       23546 non-null  float64\n",
      " 10  Bedroom2       19066 non-null  float64\n",
      " 11  Bathroom       19063 non-null  float64\n",
      " 12  Car            18921 non-null  float64\n",
      " 13  Landsize       17410 non-null  float64\n",
      " 14  BuildingArea   10018 non-null  float64\n",
      " 15  YearBuilt      11540 non-null  float64\n",
      " 16  CouncilArea    15656 non-null  object \n",
      " 17  Lattitude      19243 non-null  float64\n",
      " 18  Longtitude     19243 non-null  float64\n",
      " 19  Regionname     23546 non-null  object \n",
      " 20  Propertycount  23546 non-null  float64\n",
      "dtypes: float64(12), int64(1), object(8)\n",
      "memory usage: 3.8+ MB\n",
      "None\n"
     ]
    }
   ],
   "source": [
    "print(a.info())"
   ]
  },
  {
   "cell_type": "code",
   "execution_count": 5,
   "id": "2ddbdb15",
   "metadata": {},
   "outputs": [
    {
     "name": "stdout",
     "output_type": "stream",
     "text": [
      "sum\n",
      "BuildingArea     13529\n",
      "YearBuilt        12007\n",
      "CouncilArea       7891\n",
      "Landsize          6137\n",
      "Price             5151\n",
      "Car               4626\n",
      "Bathroom          4484\n",
      "Bedroom2          4481\n",
      "Longtitude        4304\n",
      "Lattitude         4304\n",
      "Regionname           1\n",
      "Propertycount        1\n",
      "Postcode             1\n",
      "Distance             1\n",
      "Address              0\n",
      "Date                 0\n",
      "SellerG              0\n",
      "Method               0\n",
      "Type                 0\n",
      "Rooms                0\n",
      "Suburb               0\n",
      "dtype: int64\n"
     ]
    }
   ],
   "source": [
    "#summing up the missing values\n",
    "print(\"sum\")\n",
    "data=a.isnull().sum().sort_values(ascending=False)\n",
    "print(data)"
   ]
  },
  {
   "cell_type": "code",
   "execution_count": 6,
   "id": "2e913f7b",
   "metadata": {},
   "outputs": [
    {
     "name": "stdout",
     "output_type": "stream",
     "text": [
      "row wise max. missing values   18523    13\n",
      "12930    10\n",
      "12842    10\n",
      "12927    10\n",
      "12900    10\n",
      "21385    10\n",
      "12894    10\n",
      "5238     10\n",
      "1637     10\n",
      "1634     10\n",
      "dtype: int64\n"
     ]
    }
   ],
   "source": [
    "#data cleaning is nothing but to digest this null data\n",
    "#missing values row wise\n",
    "data1=a.isnull().sum(axis=1).sort_values(ascending=False).head(10)\n",
    "print(\"row wise max. missing values\",\" \",data1)"
   ]
  },
  {
   "cell_type": "code",
   "execution_count": 7,
   "id": "c2c57373",
   "metadata": {},
   "outputs": [
    {
     "name": "stdout",
     "output_type": "stream",
     "text": [
      "Suburb           False\n",
      "Address          False\n",
      "Rooms            False\n",
      "Type             False\n",
      "Price             True\n",
      "Method           False\n",
      "SellerG          False\n",
      "Date             False\n",
      "Distance          True\n",
      "Postcode          True\n",
      "Bedroom2          True\n",
      "Bathroom          True\n",
      "Car               True\n",
      "Landsize          True\n",
      "BuildingArea      True\n",
      "YearBuilt         True\n",
      "CouncilArea       True\n",
      "Lattitude         True\n",
      "Longtitude        True\n",
      "Regionname        True\n",
      "Propertycount     True\n",
      "dtype: bool\n"
     ]
    }
   ],
   "source": [
    "#find the index which has atleast one missing value\n",
    "data=a.isnull().any()>0\n",
    "print(data)\n"
   ]
  },
  {
   "cell_type": "code",
   "execution_count": 9,
   "id": "abb414fb",
   "metadata": {},
   "outputs": [
    {
     "name": "stdout",
     "output_type": "stream",
     "text": [
      "Index(['Suburb', 'Address', 'Rooms', 'Type', 'Price', 'Method', 'SellerG',\n",
      "       'Date', 'Distance', 'Postcode', 'Bedroom2', 'Bathroom', 'Car',\n",
      "       'Landsize', 'BuildingArea', 'YearBuilt', 'CouncilArea', 'Lattitude',\n",
      "       'Longtitude', 'Regionname', 'Propertycount'],\n",
      "      dtype='object')\n",
      "[False False False False  True False False False  True  True  True  True\n",
      "  True  True  True  True  True  True  True  True  True]\n",
      "--------- Index(['Price', 'Distance', 'Postcode', 'Bedroom2', 'Bathroom', 'Car',\n",
      "       'Landsize', 'BuildingArea', 'YearBuilt', 'CouncilArea', 'Lattitude',\n",
      "       'Longtitude', 'Regionname', 'Propertycount'],\n",
      "      dtype='object')\n"
     ]
    }
   ],
   "source": [
    "print(data.index)\n",
    "print(data.values)\n",
    "#those columns which has only true ans.for null value\n",
    "print(\"---------\",data.index[data.values])"
   ]
  },
  {
   "cell_type": "code",
   "execution_count": 10,
   "id": "107715ac",
   "metadata": {},
   "outputs": [
    {
     "name": "stdout",
     "output_type": "stream",
     "text": [
      "in column Suburb           False\n",
      "Address          False\n",
      "Rooms            False\n",
      "Type             False\n",
      "Price            False\n",
      "Method           False\n",
      "SellerG          False\n",
      "Date             False\n",
      "Distance         False\n",
      "Postcode         False\n",
      "Bedroom2         False\n",
      "Bathroom         False\n",
      "Car              False\n",
      "Landsize         False\n",
      "BuildingArea     False\n",
      "YearBuilt        False\n",
      "CouncilArea      False\n",
      "Lattitude        False\n",
      "Longtitude       False\n",
      "Regionname       False\n",
      "Propertycount    False\n",
      "dtype: bool\n"
     ]
    }
   ],
   "source": [
    "\n",
    "#column having all missing values\n",
    "data=a.isnull().all(axis=0)\n",
    "print(\"in column\",data)"
   ]
  },
  {
   "cell_type": "code",
   "execution_count": 11,
   "id": "23976ecd",
   "metadata": {},
   "outputs": [
    {
     "name": "stdout",
     "output_type": "stream",
     "text": [
      "for rows= 0\n"
     ]
    }
   ],
   "source": [
    "#that means there are no such columns having all the values as null\n",
    "#checking this same for rows\n",
    "\n",
    "data=a.isnull().all(axis=1).sum()\n",
    "print(\"for rows=\",data)"
   ]
  },
  {
   "cell_type": "code",
   "execution_count": 12,
   "id": "1d22e399",
   "metadata": {},
   "outputs": [
    {
     "name": "stdout",
     "output_type": "stream",
     "text": [
      "in % BuildingArea     57.455302\n",
      "YearBuilt        50.991634\n",
      "CouncilArea      33.511700\n",
      "Landsize         26.062768\n",
      "Price            21.875398\n",
      "Car              19.645815\n",
      "Bathroom         19.042766\n",
      "Bedroom2         19.030025\n",
      "Longtitude       18.278337\n",
      "Lattitude        18.278337\n",
      "Regionname        0.004247\n",
      "Propertycount     0.004247\n",
      "Postcode          0.004247\n",
      "Distance          0.004247\n",
      "Address           0.000000\n",
      "Date              0.000000\n",
      "SellerG           0.000000\n",
      "Method            0.000000\n",
      "Type              0.000000\n",
      "Rooms             0.000000\n",
      "Suburb            0.000000\n",
      "dtype: float64\n",
      "BuildingArea     57.46\n",
      "YearBuilt        50.99\n",
      "CouncilArea      33.51\n",
      "Landsize         26.06\n",
      "Price            21.88\n",
      "Car              19.65\n",
      "Bathroom         19.04\n",
      "Bedroom2         19.03\n",
      "Longtitude       18.28\n",
      "Lattitude        18.28\n",
      "Regionname        0.00\n",
      "Propertycount     0.00\n",
      "Postcode          0.00\n",
      "Distance          0.00\n",
      "Address           0.00\n",
      "Date              0.00\n",
      "SellerG           0.00\n",
      "Method            0.00\n",
      "Type              0.00\n",
      "Rooms             0.00\n",
      "Suburb            0.00\n",
      "dtype: float64\n"
     ]
    }
   ],
   "source": [
    "#checking missing values in percentage colimn wise\n",
    "data=a.isnull().sum().sort_values(ascending=False)/len(a)*100\n",
    "print(\"in %\",data)\n",
    "print(round(a.isnull().sum().sort_values(ascending=False)/len(a)*100,2))"
   ]
  },
  {
   "cell_type": "code",
   "execution_count": 13,
   "id": "2c18cf75",
   "metadata": {},
   "outputs": [
    {
     "name": "stdout",
     "output_type": "stream",
     "text": [
      "['BuildingArea' 'YearBuilt' 'CouncilArea']\n",
      "             Suburb             Address  Rooms Type      Price Method  \\\n",
      "0        Abbotsford       68 Studley St      2    h        NaN     SS   \n",
      "1        Abbotsford        85 Turner St      2    h  1480000.0      S   \n",
      "2        Abbotsford     25 Bloomburg St      2    h  1035000.0      S   \n",
      "3        Abbotsford  18/659 Victoria St      3    u        NaN     VB   \n",
      "4        Abbotsford        5 Charles St      3    h  1465000.0     SP   \n",
      "...             ...                 ...    ...  ...        ...    ...   \n",
      "23542  Wyndham Vale     25 Clitheroe Dr      3    u        NaN     PN   \n",
      "23543  Wyndham Vale    19 Dalrymple Bvd      4    h        NaN      S   \n",
      "23544     Yallambie        17 Amaroo Wy      4    h  1100000.0      S   \n",
      "23545    Yarraville          6 Agnes St      4    h  1285000.0     SP   \n",
      "23546    Yarraville       33 Freeman St      4    h  1050000.0     VB   \n",
      "\n",
      "             SellerG        Date  Distance  Postcode  Bedroom2  Bathroom  Car  \\\n",
      "0             Jellis  03-09-2016       2.5    3067.0       2.0       1.0  1.0   \n",
      "1             Biggin  03-12-2016       2.5    3067.0       2.0       1.0  1.0   \n",
      "2             Biggin  04-02-2016       2.5    3067.0       2.0       1.0  0.0   \n",
      "3             Rounds  04-02-2016       2.5    3067.0       3.0       2.0  1.0   \n",
      "4             Biggin  04-03-2017       2.5    3067.0       3.0       2.0  0.0   \n",
      "...              ...         ...       ...       ...       ...       ...  ...   \n",
      "23542      Harcourts  26-08-2017      27.2    3024.0       3.0       1.0  0.0   \n",
      "23543  hockingstuart  26-08-2017      27.2    3024.0       NaN       NaN  NaN   \n",
      "23544     Buckingham  26-08-2017      12.7    3085.0       4.0       3.0  2.0   \n",
      "23545        Village  26-08-2017       6.3    3013.0       4.0       1.0  1.0   \n",
      "23546        Village  26-08-2017       6.3    3013.0       4.0       2.0  2.0   \n",
      "\n",
      "       Landsize  Lattitude  Longtitude             Regionname  Propertycount  \n",
      "0         126.0  -37.80140   144.99580  Northern Metropolitan         4019.0  \n",
      "1         202.0  -37.79960   144.99840  Northern Metropolitan         4019.0  \n",
      "2         156.0  -37.80790   144.99340  Northern Metropolitan         4019.0  \n",
      "3           0.0  -37.81140   145.01160  Northern Metropolitan         4019.0  \n",
      "4         134.0  -37.80930   144.99440  Northern Metropolitan         4019.0  \n",
      "...         ...        ...         ...                    ...            ...  \n",
      "23542     552.0  -37.90032   144.61839   Western Metropolitan         5262.0  \n",
      "23543       NaN  -37.87882   144.60184   Western Metropolitan         5262.0  \n",
      "23544       NaN  -37.72006   145.10547  Northern Metropolitan         1369.0  \n",
      "23545     362.0  -37.81188   144.88449   Western Metropolitan         6543.0  \n",
      "23546       NaN  -37.81829   144.87404   Western Metropolitan         6543.0  \n",
      "\n",
      "[23547 rows x 18 columns]\n"
     ]
    }
   ],
   "source": [
    "#removing columns where the null values percentages\n",
    "\n",
    "datas=a.isnull().sum().sort_values(ascending=False).head(3).index.values\n",
    "print(datas)\n",
    "a1=a.drop(datas,axis='columns')\n",
    "print(a1)\n"
   ]
  },
  {
   "cell_type": "code",
   "execution_count": 14,
   "id": "2965afd1",
   "metadata": {},
   "outputs": [
    {
     "name": "stdout",
     "output_type": "stream",
     "text": [
      "                  Suburb              Address  Rooms Type      Price Method  \\\n",
      "15            Abbotsford     217 Langridge St      3    h  1000000.0      S   \n",
      "16            Abbotsford      18a Mollison St      2    t   745000.0      S   \n",
      "19            Abbotsford  403/609 Victoria St      2    u   542000.0      S   \n",
      "21            Abbotsford    25/84 Trenerry Cr      2    u   760000.0     SP   \n",
      "22            Abbotsford    106/119 Turner St      1    u   481000.0     SP   \n",
      "...                  ...                  ...    ...  ...        ...    ...   \n",
      "23495  Templestowe Lower  1/207 Manningham Rd      2    u   550000.0     PI   \n",
      "23499          Thornbury      1/128 Dundas St      2    t   770000.0     PI   \n",
      "23502          Thornbury        111 Pender St      2    t   858000.0      S   \n",
      "23508             Toorak   21/1059 Malvern Rd      2    u   720000.0     VB   \n",
      "23531           Werribee         91 Latham St      4    h   540000.0     PI   \n",
      "\n",
      "            SellerG        Date  Distance  Postcode  Bedroom2  Bathroom  Car  \\\n",
      "15           Jellis  08-10-2016       2.5    3067.0       NaN       NaN  NaN   \n",
      "16           Jellis  08-10-2016       2.5    3067.0       NaN       NaN  NaN   \n",
      "19           Dingle  08-10-2016       2.5    3067.0       NaN       NaN  NaN   \n",
      "21           Biggin  10-12-2016       2.5    3067.0       NaN       NaN  NaN   \n",
      "22     Purplebricks  10-12-2016       2.5    3067.0       NaN       NaN  NaN   \n",
      "...             ...         ...       ...       ...       ...       ...  ...   \n",
      "23495         Barry  26-08-2017      12.4    3107.0       NaN       NaN  NaN   \n",
      "23499       McGrath  26-08-2017       7.0    3071.0       NaN       NaN  NaN   \n",
      "23502        Jellis  26-08-2017       7.0    3071.0       NaN       NaN  NaN   \n",
      "23508        Beller  26-08-2017       4.1    3142.0       NaN       NaN  NaN   \n",
      "23531       Triwest  26-08-2017      14.7    3030.0       NaN       NaN  NaN   \n",
      "\n",
      "       Landsize  Lattitude  Longtitude             Regionname  Propertycount  \n",
      "15          NaN        NaN         NaN  Northern Metropolitan         4019.0  \n",
      "16          NaN        NaN         NaN  Northern Metropolitan         4019.0  \n",
      "19          NaN        NaN         NaN  Northern Metropolitan         4019.0  \n",
      "21          NaN        NaN         NaN  Northern Metropolitan         4019.0  \n",
      "22          NaN        NaN         NaN  Northern Metropolitan         4019.0  \n",
      "...         ...        ...         ...                    ...            ...  \n",
      "23495       NaN        NaN         NaN   Eastern Metropolitan         5420.0  \n",
      "23499       NaN        NaN         NaN  Northern Metropolitan         8870.0  \n",
      "23502       NaN        NaN         NaN  Northern Metropolitan         8870.0  \n",
      "23508       NaN        NaN         NaN  Southern Metropolitan         7217.0  \n",
      "23531       NaN        NaN         NaN   Western Metropolitan        16166.0  \n",
      "\n",
      "[4278 rows x 18 columns]\n"
     ]
    }
   ],
   "source": [
    "#checking rows which have more than 5 missing values\n",
    "data=a1[a1.isnull().sum(axis=1)>5]\n",
    "print(data)"
   ]
  },
  {
   "cell_type": "code",
   "execution_count": 15,
   "id": "dbcc1d33",
   "metadata": {},
   "outputs": [
    {
     "name": "stdout",
     "output_type": "stream",
     "text": [
      "18.17\n"
     ]
    }
   ],
   "source": [
    "#checking in percentage which has more than 5 null values in rows\n",
    "\n",
    "data=round(len(a1[a1.isnull().sum(axis=1)>5])/len(a1)*100,2)\n",
    "print(data)"
   ]
  },
  {
   "cell_type": "code",
   "execution_count": 16,
   "id": "ceb03c7c",
   "metadata": {},
   "outputs": [
    {
     "name": "stdout",
     "output_type": "stream",
     "text": [
      "             Suburb             Address  Rooms Type      Price Method  \\\n",
      "0        Abbotsford       68 Studley St      2    h        NaN     SS   \n",
      "1        Abbotsford        85 Turner St      2    h  1480000.0      S   \n",
      "2        Abbotsford     25 Bloomburg St      2    h  1035000.0      S   \n",
      "3        Abbotsford  18/659 Victoria St      3    u        NaN     VB   \n",
      "4        Abbotsford        5 Charles St      3    h  1465000.0     SP   \n",
      "...             ...                 ...    ...  ...        ...    ...   \n",
      "23542  Wyndham Vale     25 Clitheroe Dr      3    u        NaN     PN   \n",
      "23543  Wyndham Vale    19 Dalrymple Bvd      4    h        NaN      S   \n",
      "23544     Yallambie        17 Amaroo Wy      4    h  1100000.0      S   \n",
      "23545    Yarraville          6 Agnes St      4    h  1285000.0     SP   \n",
      "23546    Yarraville       33 Freeman St      4    h  1050000.0     VB   \n",
      "\n",
      "             SellerG        Date  Distance  Postcode  Bedroom2  Bathroom  Car  \\\n",
      "0             Jellis  03-09-2016       2.5    3067.0       2.0       1.0  1.0   \n",
      "1             Biggin  03-12-2016       2.5    3067.0       2.0       1.0  1.0   \n",
      "2             Biggin  04-02-2016       2.5    3067.0       2.0       1.0  0.0   \n",
      "3             Rounds  04-02-2016       2.5    3067.0       3.0       2.0  1.0   \n",
      "4             Biggin  04-03-2017       2.5    3067.0       3.0       2.0  0.0   \n",
      "...              ...         ...       ...       ...       ...       ...  ...   \n",
      "23542      Harcourts  26-08-2017      27.2    3024.0       3.0       1.0  0.0   \n",
      "23543  hockingstuart  26-08-2017      27.2    3024.0       NaN       NaN  NaN   \n",
      "23544     Buckingham  26-08-2017      12.7    3085.0       4.0       3.0  2.0   \n",
      "23545        Village  26-08-2017       6.3    3013.0       4.0       1.0  1.0   \n",
      "23546        Village  26-08-2017       6.3    3013.0       4.0       2.0  2.0   \n",
      "\n",
      "       Landsize  Lattitude  Longtitude             Regionname  Propertycount  \n",
      "0         126.0  -37.80140   144.99580  Northern Metropolitan         4019.0  \n",
      "1         202.0  -37.79960   144.99840  Northern Metropolitan         4019.0  \n",
      "2         156.0  -37.80790   144.99340  Northern Metropolitan         4019.0  \n",
      "3           0.0  -37.81140   145.01160  Northern Metropolitan         4019.0  \n",
      "4         134.0  -37.80930   144.99440  Northern Metropolitan         4019.0  \n",
      "...         ...        ...         ...                    ...            ...  \n",
      "23542     552.0  -37.90032   144.61839   Western Metropolitan         5262.0  \n",
      "23543       NaN  -37.87882   144.60184   Western Metropolitan         5262.0  \n",
      "23544       NaN  -37.72006   145.10547  Northern Metropolitan         1369.0  \n",
      "23545     362.0  -37.81188   144.88449   Western Metropolitan         6543.0  \n",
      "23546       NaN  -37.81829   144.87404   Western Metropolitan         6543.0  \n",
      "\n",
      "[19269 rows x 18 columns]\n",
      "(19269, 18)\n"
     ]
    }
   ],
   "source": [
    "#retaining the rows having less than or equal to 5 values\n",
    "a1=a1[a1.isnull().sum(axis=1)<=5]\n",
    "print(a1)\n",
    "print(a1.shape)"
   ]
  },
  {
   "cell_type": "code",
   "execution_count": 17,
   "id": "f7518f1e",
   "metadata": {},
   "outputs": [
    {
     "name": "stdout",
     "output_type": "stream",
     "text": [
      "Price            21.71\n",
      "Landsize          9.65\n",
      "Car               1.81\n",
      "Bathroom          1.07\n",
      "Bedroom2          1.05\n",
      "Longtitude        0.13\n",
      "Lattitude         0.13\n",
      "Suburb            0.00\n",
      "Regionname        0.00\n",
      "Postcode          0.00\n",
      "Address           0.00\n",
      "Distance          0.00\n",
      "Date              0.00\n",
      "SellerG           0.00\n",
      "Method            0.00\n",
      "Type              0.00\n",
      "Rooms             0.00\n",
      "Propertycount     0.00\n",
      "dtype: float64\n"
     ]
    }
   ],
   "source": [
    "#now checking remaining data of null values\n",
    "data=round(a1.isnull().sum().sort_values(ascending=False)/len(a1)*100,2)\n",
    "print(data)"
   ]
  },
  {
   "cell_type": "code",
   "execution_count": 18,
   "id": "986a1589",
   "metadata": {},
   "outputs": [
    {
     "name": "stdout",
     "output_type": "stream",
     "text": [
      "             Suburb           Address  Rooms Type      Price Method  \\\n",
      "1        Abbotsford      85 Turner St      2    h  1480000.0      S   \n",
      "2        Abbotsford   25 Bloomburg St      2    h  1035000.0      S   \n",
      "4        Abbotsford      5 Charles St      3    h  1465000.0     SP   \n",
      "5        Abbotsford  40 Federation La      3    h   850000.0     PI   \n",
      "6        Abbotsford       55a Park St      4    h  1600000.0     VB   \n",
      "...             ...               ...    ...  ...        ...    ...   \n",
      "23540  Williamstown   8/2 Thompson St      2    t   622500.0     SP   \n",
      "23541  Williamstown      96 Verdon St      4    h  2500000.0     PI   \n",
      "23544     Yallambie      17 Amaroo Wy      4    h  1100000.0      S   \n",
      "23545    Yarraville        6 Agnes St      4    h  1285000.0     SP   \n",
      "23546    Yarraville     33 Freeman St      4    h  1050000.0     VB   \n",
      "\n",
      "          SellerG        Date  Distance  Postcode  Bedroom2  Bathroom  Car  \\\n",
      "1          Biggin  03-12-2016       2.5    3067.0       2.0       1.0  1.0   \n",
      "2          Biggin  04-02-2016       2.5    3067.0       2.0       1.0  0.0   \n",
      "4          Biggin  04-03-2017       2.5    3067.0       3.0       2.0  0.0   \n",
      "5          Biggin  04-03-2017       2.5    3067.0       3.0       2.0  1.0   \n",
      "6          Nelson  04-06-2016       2.5    3067.0       3.0       1.0  2.0   \n",
      "...           ...         ...       ...       ...       ...       ...  ...   \n",
      "23540        Greg  26-08-2017       6.8    3016.0       2.0       2.0  1.0   \n",
      "23541     Sweeney  26-08-2017       6.8    3016.0       4.0       1.0  5.0   \n",
      "23544  Buckingham  26-08-2017      12.7    3085.0       4.0       3.0  2.0   \n",
      "23545     Village  26-08-2017       6.3    3013.0       4.0       1.0  1.0   \n",
      "23546     Village  26-08-2017       6.3    3013.0       4.0       2.0  2.0   \n",
      "\n",
      "       Landsize  Lattitude  Longtitude             Regionname  Propertycount  \n",
      "1         202.0  -37.79960   144.99840  Northern Metropolitan         4019.0  \n",
      "2         156.0  -37.80790   144.99340  Northern Metropolitan         4019.0  \n",
      "4         134.0  -37.80930   144.99440  Northern Metropolitan         4019.0  \n",
      "5          94.0  -37.79690   144.99690  Northern Metropolitan         4019.0  \n",
      "6         120.0  -37.80720   144.99410  Northern Metropolitan         4019.0  \n",
      "...         ...        ...         ...                    ...            ...  \n",
      "23540       NaN  -37.86393   144.90484   Western Metropolitan         6380.0  \n",
      "23541     866.0  -37.85908   144.89299   Western Metropolitan         6380.0  \n",
      "23544       NaN  -37.72006   145.10547  Northern Metropolitan         1369.0  \n",
      "23545     362.0  -37.81188   144.88449   Western Metropolitan         6543.0  \n",
      "23546       NaN  -37.81829   144.87404   Western Metropolitan         6543.0  \n",
      "\n",
      "[15086 rows x 18 columns]\n"
     ]
    }
   ],
   "source": [
    "#by doing this what we found that price colimn and landsize still have maximum no. of nukk values \n",
    "#so what we do now we just dlete those null rows in those columns\n",
    "data=a1[a1['Price'].notnull()]\n",
    "print(data)"
   ]
  },
  {
   "cell_type": "code",
   "execution_count": 19,
   "id": "fb1ee6db",
   "metadata": {},
   "outputs": [
    {
     "name": "stdout",
     "output_type": "stream",
     "text": [
      "             Suburb           Address  Rooms Type      Price Method  \\\n",
      "1        Abbotsford      85 Turner St      2    h  1480000.0      S   \n",
      "2        Abbotsford   25 Bloomburg St      2    h  1035000.0      S   \n",
      "4        Abbotsford      5 Charles St      3    h  1465000.0     SP   \n",
      "5        Abbotsford  40 Federation La      3    h   850000.0     PI   \n",
      "6        Abbotsford       55a Park St      4    h  1600000.0     VB   \n",
      "...             ...               ...    ...  ...        ...    ...   \n",
      "23540  Williamstown   8/2 Thompson St      2    t   622500.0     SP   \n",
      "23541  Williamstown      96 Verdon St      4    h  2500000.0     PI   \n",
      "23544     Yallambie      17 Amaroo Wy      4    h  1100000.0      S   \n",
      "23545    Yarraville        6 Agnes St      4    h  1285000.0     SP   \n",
      "23546    Yarraville     33 Freeman St      4    h  1050000.0     VB   \n",
      "\n",
      "          SellerG        Date  Distance  Postcode  Bedroom2  Bathroom  Car  \\\n",
      "1          Biggin  03-12-2016       2.5    3067.0       2.0       1.0  1.0   \n",
      "2          Biggin  04-02-2016       2.5    3067.0       2.0       1.0  0.0   \n",
      "4          Biggin  04-03-2017       2.5    3067.0       3.0       2.0  0.0   \n",
      "5          Biggin  04-03-2017       2.5    3067.0       3.0       2.0  1.0   \n",
      "6          Nelson  04-06-2016       2.5    3067.0       3.0       1.0  2.0   \n",
      "...           ...         ...       ...       ...       ...       ...  ...   \n",
      "23540        Greg  26-08-2017       6.8    3016.0       2.0       2.0  1.0   \n",
      "23541     Sweeney  26-08-2017       6.8    3016.0       4.0       1.0  5.0   \n",
      "23544  Buckingham  26-08-2017      12.7    3085.0       4.0       3.0  2.0   \n",
      "23545     Village  26-08-2017       6.3    3013.0       4.0       1.0  1.0   \n",
      "23546     Village  26-08-2017       6.3    3013.0       4.0       2.0  2.0   \n",
      "\n",
      "       Landsize  Lattitude  Longtitude             Regionname  Propertycount  \n",
      "1         202.0  -37.79960   144.99840  Northern Metropolitan         4019.0  \n",
      "2         156.0  -37.80790   144.99340  Northern Metropolitan         4019.0  \n",
      "4         134.0  -37.80930   144.99440  Northern Metropolitan         4019.0  \n",
      "5          94.0  -37.79690   144.99690  Northern Metropolitan         4019.0  \n",
      "6         120.0  -37.80720   144.99410  Northern Metropolitan         4019.0  \n",
      "...         ...        ...         ...                    ...            ...  \n",
      "23540       NaN  -37.86393   144.90484   Western Metropolitan         6380.0  \n",
      "23541     866.0  -37.85908   144.89299   Western Metropolitan         6380.0  \n",
      "23544       NaN  -37.72006   145.10547  Northern Metropolitan         1369.0  \n",
      "23545     362.0  -37.81188   144.88449   Western Metropolitan         6543.0  \n",
      "23546       NaN  -37.81829   144.87404   Western Metropolitan         6543.0  \n",
      "\n",
      "[15086 rows x 18 columns]\n"
     ]
    }
   ],
   "source": [
    "#using numpy\n",
    "datanp=a1[~np.isnan(a1['Price'])]\n",
    "print(datanp)\n"
   ]
  },
  {
   "cell_type": "code",
   "execution_count": 22,
   "id": "5e82e921",
   "metadata": {},
   "outputs": [
    {
     "name": "stdout",
     "output_type": "stream",
     "text": [
      "              Suburb           Address  Rooms Type      Price Method  \\\n",
      "1         Abbotsford      85 Turner St      2    h  1480000.0      S   \n",
      "2         Abbotsford   25 Bloomburg St      2    h  1035000.0      S   \n",
      "4         Abbotsford      5 Charles St      3    h  1465000.0     SP   \n",
      "5         Abbotsford  40 Federation La      3    h   850000.0     PI   \n",
      "6         Abbotsford       55a Park St      4    h  1600000.0     VB   \n",
      "...              ...               ...    ...  ...        ...    ...   \n",
      "23537  Wheelers Hill      12 Strada Cr      4    h  1245000.0      S   \n",
      "23538   Williamstown     77 Merrett Dr      3    h  1031000.0     SP   \n",
      "23539   Williamstown       83 Power St      3    h  1170000.0      S   \n",
      "23541   Williamstown      96 Verdon St      4    h  2500000.0     PI   \n",
      "23545     Yarraville        6 Agnes St      4    h  1285000.0     SP   \n",
      "\n",
      "        SellerG        Date  Distance  Postcode  Bedroom2  Bathroom  Car  \\\n",
      "1        Biggin  03-12-2016       2.5    3067.0       2.0       1.0  1.0   \n",
      "2        Biggin  04-02-2016       2.5    3067.0       2.0       1.0  0.0   \n",
      "4        Biggin  04-03-2017       2.5    3067.0       3.0       2.0  0.0   \n",
      "5        Biggin  04-03-2017       2.5    3067.0       3.0       2.0  1.0   \n",
      "6        Nelson  04-06-2016       2.5    3067.0       3.0       1.0  2.0   \n",
      "...         ...         ...       ...       ...       ...       ...  ...   \n",
      "23537     Barry  26-08-2017      16.7    3150.0       4.0       2.0  2.0   \n",
      "23538  Williams  26-08-2017       6.8    3016.0       3.0       2.0  2.0   \n",
      "23539     Raine  26-08-2017       6.8    3016.0       3.0       2.0  4.0   \n",
      "23541   Sweeney  26-08-2017       6.8    3016.0       4.0       1.0  5.0   \n",
      "23545   Village  26-08-2017       6.3    3013.0       4.0       1.0  1.0   \n",
      "\n",
      "       Landsize  Lattitude  Longtitude                  Regionname  \\\n",
      "1         202.0  -37.79960   144.99840       Northern Metropolitan   \n",
      "2         156.0  -37.80790   144.99340       Northern Metropolitan   \n",
      "4         134.0  -37.80930   144.99440       Northern Metropolitan   \n",
      "5          94.0  -37.79690   144.99690       Northern Metropolitan   \n",
      "6         120.0  -37.80720   144.99410       Northern Metropolitan   \n",
      "...         ...        ...         ...                         ...   \n",
      "23537     652.0  -37.90562   145.16761  South-Eastern Metropolitan   \n",
      "23538     333.0  -37.85927   144.87904        Western Metropolitan   \n",
      "23539     436.0  -37.85274   144.88738        Western Metropolitan   \n",
      "23541     866.0  -37.85908   144.89299        Western Metropolitan   \n",
      "23545     362.0  -37.81188   144.88449        Western Metropolitan   \n",
      "\n",
      "       Propertycount  \n",
      "1             4019.0  \n",
      "2             4019.0  \n",
      "4             4019.0  \n",
      "5             4019.0  \n",
      "6             4019.0  \n",
      "...              ...  \n",
      "23537         7392.0  \n",
      "23538         6380.0  \n",
      "23539         6380.0  \n",
      "23541         6380.0  \n",
      "23545         6543.0  \n",
      "\n",
      "[13603 rows x 18 columns]\n"
     ]
    }
   ],
   "source": [
    "#updating above operations\n",
    "a1=data\n",
    "print(a1)"
   ]
  },
  {
   "cell_type": "code",
   "execution_count": 21,
   "id": "34dca5b6",
   "metadata": {},
   "outputs": [
    {
     "name": "stdout",
     "output_type": "stream",
     "text": [
      "              Suburb           Address  Rooms Type      Price Method  \\\n",
      "1         Abbotsford      85 Turner St      2    h  1480000.0      S   \n",
      "2         Abbotsford   25 Bloomburg St      2    h  1035000.0      S   \n",
      "4         Abbotsford      5 Charles St      3    h  1465000.0     SP   \n",
      "5         Abbotsford  40 Federation La      3    h   850000.0     PI   \n",
      "6         Abbotsford       55a Park St      4    h  1600000.0     VB   \n",
      "...              ...               ...    ...  ...        ...    ...   \n",
      "23537  Wheelers Hill      12 Strada Cr      4    h  1245000.0      S   \n",
      "23538   Williamstown     77 Merrett Dr      3    h  1031000.0     SP   \n",
      "23539   Williamstown       83 Power St      3    h  1170000.0      S   \n",
      "23541   Williamstown      96 Verdon St      4    h  2500000.0     PI   \n",
      "23545     Yarraville        6 Agnes St      4    h  1285000.0     SP   \n",
      "\n",
      "        SellerG        Date  Distance  Postcode  Bedroom2  Bathroom  Car  \\\n",
      "1        Biggin  03-12-2016       2.5    3067.0       2.0       1.0  1.0   \n",
      "2        Biggin  04-02-2016       2.5    3067.0       2.0       1.0  0.0   \n",
      "4        Biggin  04-03-2017       2.5    3067.0       3.0       2.0  0.0   \n",
      "5        Biggin  04-03-2017       2.5    3067.0       3.0       2.0  1.0   \n",
      "6        Nelson  04-06-2016       2.5    3067.0       3.0       1.0  2.0   \n",
      "...         ...         ...       ...       ...       ...       ...  ...   \n",
      "23537     Barry  26-08-2017      16.7    3150.0       4.0       2.0  2.0   \n",
      "23538  Williams  26-08-2017       6.8    3016.0       3.0       2.0  2.0   \n",
      "23539     Raine  26-08-2017       6.8    3016.0       3.0       2.0  4.0   \n",
      "23541   Sweeney  26-08-2017       6.8    3016.0       4.0       1.0  5.0   \n",
      "23545   Village  26-08-2017       6.3    3013.0       4.0       1.0  1.0   \n",
      "\n",
      "       Landsize  Lattitude  Longtitude                  Regionname  \\\n",
      "1         202.0  -37.79960   144.99840       Northern Metropolitan   \n",
      "2         156.0  -37.80790   144.99340       Northern Metropolitan   \n",
      "4         134.0  -37.80930   144.99440       Northern Metropolitan   \n",
      "5          94.0  -37.79690   144.99690       Northern Metropolitan   \n",
      "6         120.0  -37.80720   144.99410       Northern Metropolitan   \n",
      "...         ...        ...         ...                         ...   \n",
      "23537     652.0  -37.90562   145.16761  South-Eastern Metropolitan   \n",
      "23538     333.0  -37.85927   144.87904        Western Metropolitan   \n",
      "23539     436.0  -37.85274   144.88738        Western Metropolitan   \n",
      "23541     866.0  -37.85908   144.89299        Western Metropolitan   \n",
      "23545     362.0  -37.81188   144.88449        Western Metropolitan   \n",
      "\n",
      "       Propertycount  \n",
      "1             4019.0  \n",
      "2             4019.0  \n",
      "4             4019.0  \n",
      "5             4019.0  \n",
      "6             4019.0  \n",
      "...              ...  \n",
      "23537         7392.0  \n",
      "23538         6380.0  \n",
      "23539         6380.0  \n",
      "23541         6380.0  \n",
      "23545         6543.0  \n",
      "\n",
      "[13603 rows x 18 columns]\n",
      "(13603, 18)\n"
     ]
    }
   ],
   "source": [
    "data=a1[a1['Landsize'].notnull()]\n",
    "print(data)\n",
    "#assigned it to in original data\n",
    "a1=data\n",
    "print(a1.shape)"
   ]
  },
  {
   "cell_type": "code",
   "execution_count": 23,
   "id": "320462ef",
   "metadata": {},
   "outputs": [
    {
     "name": "stdout",
     "output_type": "stream",
     "text": [
      "Car              63\n",
      "Longtitude       22\n",
      "Lattitude        22\n",
      "Bathroom          1\n",
      "Suburb            0\n",
      "Address           0\n",
      "Regionname        0\n",
      "Landsize          0\n",
      "Bedroom2          0\n",
      "Postcode          0\n",
      "Distance          0\n",
      "Date              0\n",
      "SellerG           0\n",
      "Method            0\n",
      "Price             0\n",
      "Type              0\n",
      "Rooms             0\n",
      "Propertycount     0\n",
      "dtype: int64\n"
     ]
    }
   ],
   "source": [
    "data=a1.isnull().sum().sort_values(ascending=False)\n",
    "print(data)"
   ]
  },
  {
   "cell_type": "code",
   "execution_count": 24,
   "id": "74199417",
   "metadata": {},
   "outputs": [
    {
     "name": "stdout",
     "output_type": "stream",
     "text": [
      "LATITUDE AND LONGITUDE           Lattitude    Longtitude\n",
      "count  13581.000000  13581.000000\n",
      "mean     -37.809204    144.995221\n",
      "std        0.079257      0.103913\n",
      "min      -38.182550    144.431810\n",
      "25%      -37.856820    144.929600\n",
      "50%      -37.802360    145.000100\n",
      "75%      -37.756400    145.058320\n",
      "max      -37.408530    145.526350\n"
     ]
    }
   ],
   "source": [
    "#now we have only car,longitude,latitude,bathroom columns . which have some null values\n",
    "#first we will fetch latitude and longitude and later will implement mean value over missing data\n",
    "\n",
    "data=a1.loc[:,['Lattitude','Longtitude']].describe()\n",
    "print(\"LATITUDE AND LONGITUDE\",data)"
   ]
  },
  {
   "cell_type": "code",
   "execution_count": 25,
   "id": "724cff57",
   "metadata": {},
   "outputs": [
    {
     "name": "stdout",
     "output_type": "stream",
     "text": [
      "all rows of that column 1       -37.79960\n",
      "2       -37.80790\n",
      "4       -37.80930\n",
      "5       -37.79690\n",
      "6       -37.80720\n",
      "           ...   \n",
      "23537   -37.90562\n",
      "23538   -37.85927\n",
      "23539   -37.85274\n",
      "23541   -37.85908\n",
      "23545   -37.81188\n",
      "Name: Lattitude, Length: 13603, dtype: float64\n"
     ]
    }
   ],
   "source": [
    "#replacing it with mean values\n",
    "\n",
    "data=a1.loc[:,'Lattitude'].fillna(a1['Lattitude'].mean())\n",
    "print(\"all rows of that column\",data)"
   ]
  },
  {
   "cell_type": "code",
   "execution_count": 26,
   "id": "5d52b270",
   "metadata": {},
   "outputs": [
    {
     "name": "stdout",
     "output_type": "stream",
     "text": [
      "1        144.99840\n",
      "2        144.99340\n",
      "4        144.99440\n",
      "5        144.99690\n",
      "6        144.99410\n",
      "           ...    \n",
      "23537    145.16761\n",
      "23538    144.87904\n",
      "23539    144.88738\n",
      "23541    144.89299\n",
      "23545    144.88449\n",
      "Name: Longtitude, Length: 13603, dtype: float64\n"
     ]
    }
   ],
   "source": [
    "#for longitude now\n",
    "data=a1.loc[:,'Longtitude'].fillna(a1['Longtitude'].mean())\n",
    "print(data)"
   ]
  },
  {
   "cell_type": "code",
   "execution_count": 27,
   "id": "007ebdd1",
   "metadata": {},
   "outputs": [
    {
     "name": "stdout",
     "output_type": "stream",
     "text": [
      "                Car      Bathroom\n",
      "count  13540.000000  13602.000000\n",
      "mean       1.610414      1.534921\n",
      "std        0.962244      0.691834\n",
      "min        0.000000      0.000000\n",
      "25%        1.000000      1.000000\n",
      "50%        2.000000      1.000000\n",
      "75%        2.000000      2.000000\n",
      "max       10.000000      8.000000\n"
     ]
    }
   ],
   "source": [
    "#describing cars data and bathroom data  as well\n",
    "data=a1.loc[:,['Car','Bathroom']].describe()\n",
    "print(data)\n"
   ]
  },
  {
   "cell_type": "code",
   "execution_count": 28,
   "id": "e58c0c7b",
   "metadata": {},
   "outputs": [
    {
     "name": "stdout",
     "output_type": "stream",
     "text": [
      "Car\n",
      "2.0     5606\n",
      "1.0     5515\n",
      "0.0     1026\n",
      "3.0      748\n",
      "4.0      507\n",
      "5.0       63\n",
      "6.0       54\n",
      "8.0        9\n",
      "7.0        8\n",
      "10.0       3\n",
      "9.0        1\n",
      "Name: Car, dtype: int64\n"
     ]
    }
   ],
   "source": [
    "\n",
    "data=a1.groupby('Car').Car.count().sort_values(ascending=False)\n",
    "print(data)"
   ]
  },
  {
   "cell_type": "code",
   "execution_count": 29,
   "id": "7fcd091e",
   "metadata": {},
   "outputs": [
    {
     "name": "stdout",
     "output_type": "stream",
     "text": [
      "<bound method DataFrame.info of               Suburb           Address  Rooms Type      Price Method  \\\n",
      "1         Abbotsford      85 Turner St      2    h  1480000.0      S   \n",
      "2         Abbotsford   25 Bloomburg St      2    h  1035000.0      S   \n",
      "4         Abbotsford      5 Charles St      3    h  1465000.0     SP   \n",
      "5         Abbotsford  40 Federation La      3    h   850000.0     PI   \n",
      "6         Abbotsford       55a Park St      4    h  1600000.0     VB   \n",
      "...              ...               ...    ...  ...        ...    ...   \n",
      "23537  Wheelers Hill      12 Strada Cr      4    h  1245000.0      S   \n",
      "23538   Williamstown     77 Merrett Dr      3    h  1031000.0     SP   \n",
      "23539   Williamstown       83 Power St      3    h  1170000.0      S   \n",
      "23541   Williamstown      96 Verdon St      4    h  2500000.0     PI   \n",
      "23545     Yarraville        6 Agnes St      4    h  1285000.0     SP   \n",
      "\n",
      "        SellerG        Date  Distance  Postcode  Bedroom2  Bathroom  Car  \\\n",
      "1        Biggin  03-12-2016       2.5    3067.0       2.0       1.0  1.0   \n",
      "2        Biggin  04-02-2016       2.5    3067.0       2.0       1.0  0.0   \n",
      "4        Biggin  04-03-2017       2.5    3067.0       3.0       2.0  0.0   \n",
      "5        Biggin  04-03-2017       2.5    3067.0       3.0       2.0  1.0   \n",
      "6        Nelson  04-06-2016       2.5    3067.0       3.0       1.0  2.0   \n",
      "...         ...         ...       ...       ...       ...       ...  ...   \n",
      "23537     Barry  26-08-2017      16.7    3150.0       4.0       2.0  2.0   \n",
      "23538  Williams  26-08-2017       6.8    3016.0       3.0       2.0  2.0   \n",
      "23539     Raine  26-08-2017       6.8    3016.0       3.0       2.0  4.0   \n",
      "23541   Sweeney  26-08-2017       6.8    3016.0       4.0       1.0  5.0   \n",
      "23545   Village  26-08-2017       6.3    3013.0       4.0       1.0  1.0   \n",
      "\n",
      "       Landsize  Lattitude  Longtitude                  Regionname  \\\n",
      "1         202.0  -37.79960   144.99840       Northern Metropolitan   \n",
      "2         156.0  -37.80790   144.99340       Northern Metropolitan   \n",
      "4         134.0  -37.80930   144.99440       Northern Metropolitan   \n",
      "5          94.0  -37.79690   144.99690       Northern Metropolitan   \n",
      "6         120.0  -37.80720   144.99410       Northern Metropolitan   \n",
      "...         ...        ...         ...                         ...   \n",
      "23537     652.0  -37.90562   145.16761  South-Eastern Metropolitan   \n",
      "23538     333.0  -37.85927   144.87904        Western Metropolitan   \n",
      "23539     436.0  -37.85274   144.88738        Western Metropolitan   \n",
      "23541     866.0  -37.85908   144.89299        Western Metropolitan   \n",
      "23545     362.0  -37.81188   144.88449        Western Metropolitan   \n",
      "\n",
      "       Propertycount  \n",
      "1             4019.0  \n",
      "2             4019.0  \n",
      "4             4019.0  \n",
      "5             4019.0  \n",
      "6             4019.0  \n",
      "...              ...  \n",
      "23537         7392.0  \n",
      "23538         6380.0  \n",
      "23539         6380.0  \n",
      "23541         6380.0  \n",
      "23545         6543.0  \n",
      "\n",
      "[13603 rows x 18 columns]>\n"
     ]
    }
   ],
   "source": [
    "#it has mostly 2 so well replece it with 2\n",
    "\n",
    "data=a1.loc[:,'Car'].fillna(2,inplace=True)\n",
    "\n",
    "z=a1.info\n",
    "print(z)"
   ]
  },
  {
   "cell_type": "code",
   "execution_count": 30,
   "id": "771176b3",
   "metadata": {},
   "outputs": [
    {
     "name": "stdout",
     "output_type": "stream",
     "text": [
      "Bathroom\n",
      "1.0    7517\n",
      "2.0    4987\n",
      "3.0     921\n",
      "4.0     106\n",
      "0.0      34\n",
      "5.0      28\n",
      "6.0       5\n",
      "7.0       2\n",
      "8.0       2\n",
      "Name: Bathroom, dtype: int64\n"
     ]
    }
   ],
   "source": [
    "# do for bathroom as well\n",
    "data=a1.groupby('Bathroom').Bathroom.count().sort_values(ascending=False)\n",
    "print(data)"
   ]
  },
  {
   "cell_type": "code",
   "execution_count": 31,
   "id": "9aa668ff",
   "metadata": {},
   "outputs": [
    {
     "name": "stdout",
     "output_type": "stream",
     "text": [
      "              Suburb           Address  Rooms Type      Price Method  \\\n",
      "1         Abbotsford      85 Turner St      2    h  1480000.0      S   \n",
      "2         Abbotsford   25 Bloomburg St      2    h  1035000.0      S   \n",
      "4         Abbotsford      5 Charles St      3    h  1465000.0     SP   \n",
      "5         Abbotsford  40 Federation La      3    h   850000.0     PI   \n",
      "6         Abbotsford       55a Park St      4    h  1600000.0     VB   \n",
      "...              ...               ...    ...  ...        ...    ...   \n",
      "23537  Wheelers Hill      12 Strada Cr      4    h  1245000.0      S   \n",
      "23538   Williamstown     77 Merrett Dr      3    h  1031000.0     SP   \n",
      "23539   Williamstown       83 Power St      3    h  1170000.0      S   \n",
      "23541   Williamstown      96 Verdon St      4    h  2500000.0     PI   \n",
      "23545     Yarraville        6 Agnes St      4    h  1285000.0     SP   \n",
      "\n",
      "        SellerG        Date  Distance  Postcode  Bedroom2  Bathroom  Car  \\\n",
      "1        Biggin  03-12-2016       2.5    3067.0       2.0       1.0  1.0   \n",
      "2        Biggin  04-02-2016       2.5    3067.0       2.0       1.0  0.0   \n",
      "4        Biggin  04-03-2017       2.5    3067.0       3.0       2.0  0.0   \n",
      "5        Biggin  04-03-2017       2.5    3067.0       3.0       2.0  1.0   \n",
      "6        Nelson  04-06-2016       2.5    3067.0       3.0       1.0  2.0   \n",
      "...         ...         ...       ...       ...       ...       ...  ...   \n",
      "23537     Barry  26-08-2017      16.7    3150.0       4.0       2.0  2.0   \n",
      "23538  Williams  26-08-2017       6.8    3016.0       3.0       2.0  2.0   \n",
      "23539     Raine  26-08-2017       6.8    3016.0       3.0       2.0  4.0   \n",
      "23541   Sweeney  26-08-2017       6.8    3016.0       4.0       1.0  5.0   \n",
      "23545   Village  26-08-2017       6.3    3013.0       4.0       1.0  1.0   \n",
      "\n",
      "       Landsize  Lattitude  Longtitude                  Regionname  \\\n",
      "1         202.0  -37.79960   144.99840       Northern Metropolitan   \n",
      "2         156.0  -37.80790   144.99340       Northern Metropolitan   \n",
      "4         134.0  -37.80930   144.99440       Northern Metropolitan   \n",
      "5          94.0  -37.79690   144.99690       Northern Metropolitan   \n",
      "6         120.0  -37.80720   144.99410       Northern Metropolitan   \n",
      "...         ...        ...         ...                         ...   \n",
      "23537     652.0  -37.90562   145.16761  South-Eastern Metropolitan   \n",
      "23538     333.0  -37.85927   144.87904        Western Metropolitan   \n",
      "23539     436.0  -37.85274   144.88738        Western Metropolitan   \n",
      "23541     866.0  -37.85908   144.89299        Western Metropolitan   \n",
      "23545     362.0  -37.81188   144.88449        Western Metropolitan   \n",
      "\n",
      "       Propertycount  \n",
      "1             4019.0  \n",
      "2             4019.0  \n",
      "4             4019.0  \n",
      "5             4019.0  \n",
      "6             4019.0  \n",
      "...              ...  \n",
      "23537         7392.0  \n",
      "23538         6380.0  \n",
      "23539         6380.0  \n",
      "23541         6380.0  \n",
      "23545         6543.0  \n",
      "\n",
      "[13603 rows x 18 columns]\n",
      "Suburb            0\n",
      "Address           0\n",
      "Rooms             0\n",
      "Type              0\n",
      "Price             0\n",
      "Method            0\n",
      "SellerG           0\n",
      "Date              0\n",
      "Distance          0\n",
      "Postcode          0\n",
      "Bedroom2          0\n",
      "Bathroom          0\n",
      "Car               0\n",
      "Landsize          0\n",
      "Lattitude        22\n",
      "Longtitude       22\n",
      "Regionname        0\n",
      "Propertycount     0\n",
      "dtype: int64\n"
     ]
    }
   ],
   "source": [
    "#1 is more so we replace null values in bathroom with 1\n",
    "\n",
    "data=a1.loc[:,'Bathroom'].fillna(1,inplace=True)\n",
    "print(a1)\n",
    "\n",
    "print(a1.isnull().sum())"
   ]
  },
  {
   "cell_type": "code",
   "execution_count": 32,
   "id": "36abc58b",
   "metadata": {},
   "outputs": [
    {
     "name": "stdout",
     "output_type": "stream",
     "text": [
      "Suburb            0\n",
      "Address           0\n",
      "Rooms             0\n",
      "Type              0\n",
      "Price             0\n",
      "Method            0\n",
      "SellerG           0\n",
      "Date              0\n",
      "Distance          0\n",
      "Postcode          0\n",
      "Bedroom2          0\n",
      "Bathroom          0\n",
      "Car               0\n",
      "Landsize          0\n",
      "Lattitude        22\n",
      "Longtitude       22\n",
      "Regionname        0\n",
      "Propertycount     0\n",
      "dtype: int64\n"
     ]
    }
   ],
   "source": [
    "#now checking any field still corrupted with null values or not\n",
    "print(a1.isnull().sum())"
   ]
  },
  {
   "cell_type": "code",
   "execution_count": 33,
   "id": "4134515a",
   "metadata": {},
   "outputs": [],
   "source": [
    "#new data sheet........................converting it into house_data.csv\n",
    "a1.to_csv('house_data.csv')"
   ]
  },
  {
   "cell_type": "markdown",
   "id": "ce80674f",
   "metadata": {},
   "source": [
    "# THANKYOU"
   ]
  }
 ],
 "metadata": {
  "kernelspec": {
   "display_name": "Python 3 (ipykernel)",
   "language": "python",
   "name": "python3"
  },
  "language_info": {
   "codemirror_mode": {
    "name": "ipython",
    "version": 3
   },
   "file_extension": ".py",
   "mimetype": "text/x-python",
   "name": "python",
   "nbconvert_exporter": "python",
   "pygments_lexer": "ipython3",
   "version": "3.7.9"
  }
 },
 "nbformat": 4,
 "nbformat_minor": 5
}
